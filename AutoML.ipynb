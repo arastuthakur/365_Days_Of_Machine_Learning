{
  "nbformat": 4,
  "nbformat_minor": 0,
  "metadata": {
    "colab": {
      "provenance": []
    },
    "kernelspec": {
      "name": "python3",
      "display_name": "Python 3"
    },
    "language_info": {
      "name": "python"
    }
  },
  "cells": [
    {
      "cell_type": "markdown",
      "source": [
        "# Automated Machine Learning (AutoML)\n",
        "Machine learning has become an integral part of modern data-driven applications, but developing effective models often requires in-depth knowledge and expertise. Automated Machine Learning (AutoML) offers a solution to this challenge, empowering users to create powerful models without the need for extensive manual intervention. In this article, we will delve into the concept of AutoML and showcase its capabilities through a complex implementation using the **H2O** AutoML framework in Python."
      ],
      "metadata": {
        "id": "2IXlUm1I2ifT"
      }
    },
    {
      "cell_type": "markdown",
      "source": [
        "# Understanding AutoML\n",
        "Automated Machine Learning simplifies the process of building machine learning models by automating the steps involved in data preprocessing, feature engineering, model selection, and hyperparameter optimization. This significantly reduces the time and effort required to develop high-performing models, making machine learning more accessible to a broader audience."
      ],
      "metadata": {
        "id": "doa-sxhM2p5T"
      }
    },
    {
      "cell_type": "markdown",
      "source": [
        "# Implementation of AutoML using H2O in Python\n",
        "First, ensure you have the necessary libraries installed:"
      ],
      "metadata": {
        "id": "Upwx3wIr2sjZ"
      }
    },
    {
      "cell_type": "code",
      "source": [
        "!pip install h2o\n",
        "!pip install pandas\n",
        "!pip install numpy"
      ],
      "metadata": {
        "colab": {
          "base_uri": "https://localhost:8080/"
        },
        "id": "qosOlEsy2v_-",
        "outputId": "4d1e9ebe-a91f-4648-f287-dae06bfdc2c2"
      },
      "execution_count": 2,
      "outputs": [
        {
          "output_type": "stream",
          "name": "stdout",
          "text": [
            "Collecting h2o\n",
            "  Downloading h2o-3.44.0.1.tar.gz (257.4 MB)\n",
            "\u001b[2K     \u001b[90m━━━━━━━━━━━━━━━━━━━━━━━━━━━━━━━━━━━━━━━━\u001b[0m \u001b[32m257.4/257.4 MB\u001b[0m \u001b[31m5.1 MB/s\u001b[0m eta \u001b[36m0:00:00\u001b[0m\n",
            "\u001b[?25h  Preparing metadata (setup.py) ... \u001b[?25l\u001b[?25hdone\n",
            "Requirement already satisfied: requests in /usr/local/lib/python3.10/dist-packages (from h2o) (2.31.0)\n",
            "Requirement already satisfied: tabulate in /usr/local/lib/python3.10/dist-packages (from h2o) (0.9.0)\n",
            "Requirement already satisfied: charset-normalizer<4,>=2 in /usr/local/lib/python3.10/dist-packages (from requests->h2o) (3.3.0)\n",
            "Requirement already satisfied: idna<4,>=2.5 in /usr/local/lib/python3.10/dist-packages (from requests->h2o) (3.4)\n",
            "Requirement already satisfied: urllib3<3,>=1.21.1 in /usr/local/lib/python3.10/dist-packages (from requests->h2o) (2.0.6)\n",
            "Requirement already satisfied: certifi>=2017.4.17 in /usr/local/lib/python3.10/dist-packages (from requests->h2o) (2023.7.22)\n",
            "Building wheels for collected packages: h2o\n",
            "  Building wheel for h2o (setup.py) ... \u001b[?25l\u001b[?25hdone\n",
            "  Created wheel for h2o: filename=h2o-3.44.0.1-py2.py3-none-any.whl size=257484150 sha256=acee6e255b62494900e07cff40a6b5ccc33bd6d7deae288eff8da902ba6c00f2\n",
            "  Stored in directory: /root/.cache/pip/wheels/d9/9b/ca/7345b72d17e1e17da37239d70631c3214ec9e541b0c9e700e2\n",
            "Successfully built h2o\n",
            "Installing collected packages: h2o\n",
            "Successfully installed h2o-3.44.0.1\n",
            "Requirement already satisfied: pandas in /usr/local/lib/python3.10/dist-packages (1.5.3)\n",
            "Requirement already satisfied: python-dateutil>=2.8.1 in /usr/local/lib/python3.10/dist-packages (from pandas) (2.8.2)\n",
            "Requirement already satisfied: pytz>=2020.1 in /usr/local/lib/python3.10/dist-packages (from pandas) (2023.3.post1)\n",
            "Requirement already satisfied: numpy>=1.21.0 in /usr/local/lib/python3.10/dist-packages (from pandas) (1.23.5)\n",
            "Requirement already satisfied: six>=1.5 in /usr/local/lib/python3.10/dist-packages (from python-dateutil>=2.8.1->pandas) (1.16.0)\n",
            "Requirement already satisfied: numpy in /usr/local/lib/python3.10/dist-packages (1.23.5)\n"
          ]
        }
      ]
    },
    {
      "cell_type": "code",
      "source": [
        "import h2o\n",
        "from h2o.automl import H2OAutoML\n",
        "import pandas as pd\n",
        "import numpy as np\n",
        "import matplotlib.pyplot as plt\n",
        "from sklearn.datasets import load_breast_cancer\n",
        "from sklearn.model_selection import train_test_split\n",
        "\n",
        "# Load the breast cancer dataset\n",
        "data = load_breast_cancer()\n",
        "df = pd.DataFrame(data.data, columns=data.feature_names)\n",
        "df['target'] = data.target\n",
        "\n",
        "# Convert the target column to categorical\n",
        "df['target'] = df['target'].astype('category')\n",
        "\n",
        "# Initialize H2O\n",
        "h2o.init()\n",
        "\n",
        "# Convert the pandas DataFrame to an H2OFrame\n",
        "h2o_df = h2o.H2OFrame(df)\n",
        "\n",
        "# Split data into training and testing sets\n",
        "train, test = h2o_df.split_frame(ratios=[0.8])\n",
        "\n",
        "# Define features and target\n",
        "features = list(df.columns[:-1])\n",
        "target = 'target'\n",
        "\n",
        "# Run AutoML\n",
        "try:\n",
        "    aml = H2OAutoML(max_models=10, seed=1)\n",
        "    aml.train(x=features, y=target, training_frame=train)\n",
        "\n",
        "    # View the AutoML Leaderboard\n",
        "    lb = aml.leaderboard\n",
        "    print(lb)\n",
        "\n",
        "    # Get the best model\n",
        "    best_model = aml.leader\n",
        "\n",
        "    # Generate predictions\n",
        "    preds = best_model.predict(test)\n",
        "    predictions = preds.as_data_frame()\n",
        "\n",
        "    # Visualize the results\n",
        "    plt.figure(figsize=(8, 6))\n",
        "    plt.scatter(test[target].as_data_frame(), predictions, color='b', label='Predicted')\n",
        "    plt.plot(test[target].as_data_frame(), test[target].as_data_frame(), color='r', label='Actual')\n",
        "    plt.xlabel('Actual')\n",
        "    plt.ylabel('Predicted')\n",
        "    plt.title('Actual vs. Predicted')\n",
        "    plt.legend()\n",
        "    plt.show()\n",
        "except Exception as e:\n",
        "    print(f\"An error occurred: {e}\")"
      ],
      "metadata": {
        "colab": {
          "base_uri": "https://localhost:8080/",
          "height": 1000
        },
        "id": "BsayUtV620Ga",
        "outputId": "b1640b13-4100-4b98-eb28-19c0905e9c3a"
      },
      "execution_count": 9,
      "outputs": [
        {
          "output_type": "stream",
          "name": "stdout",
          "text": [
            "Checking whether there is an H2O instance running at http://localhost:54321. connected.\n"
          ]
        },
        {
          "output_type": "display_data",
          "data": {
            "text/plain": [
              "--------------------------  -----------------------------------------------------------------------------------------\n",
              "H2O_cluster_uptime:         4 mins 08 secs\n",
              "H2O_cluster_timezone:       Etc/UTC\n",
              "H2O_data_parsing_timezone:  UTC\n",
              "H2O_cluster_version:        3.44.0.1\n",
              "H2O_cluster_version_age:    3 hours and 58 minutes\n",
              "H2O_cluster_name:           H2O_from_python_unknownUser_6uib9n\n",
              "H2O_cluster_total_nodes:    1\n",
              "H2O_cluster_free_memory:    3.157 Gb\n",
              "H2O_cluster_total_cores:    2\n",
              "H2O_cluster_allowed_cores:  2\n",
              "H2O_cluster_status:         locked, healthy\n",
              "H2O_connection_url:         http://localhost:54321\n",
              "H2O_connection_proxy:       {\"http\": null, \"https\": null, \"colab_language_server\": \"/usr/colab/bin/language_service\"}\n",
              "H2O_internal_security:      False\n",
              "Python_version:             3.10.12 final\n",
              "--------------------------  -----------------------------------------------------------------------------------------"
            ],
            "text/html": [
              "\n",
              "<style>\n",
              "\n",
              "#h2o-table-6.h2o-container {\n",
              "  overflow-x: auto;\n",
              "}\n",
              "#h2o-table-6 .h2o-table {\n",
              "  /* width: 100%; */\n",
              "  margin-top: 1em;\n",
              "  margin-bottom: 1em;\n",
              "}\n",
              "#h2o-table-6 .h2o-table caption {\n",
              "  white-space: nowrap;\n",
              "  caption-side: top;\n",
              "  text-align: left;\n",
              "  /* margin-left: 1em; */\n",
              "  margin: 0;\n",
              "  font-size: larger;\n",
              "}\n",
              "#h2o-table-6 .h2o-table thead {\n",
              "  white-space: nowrap; \n",
              "  position: sticky;\n",
              "  top: 0;\n",
              "  box-shadow: 0 -1px inset;\n",
              "}\n",
              "#h2o-table-6 .h2o-table tbody {\n",
              "  overflow: auto;\n",
              "}\n",
              "#h2o-table-6 .h2o-table th,\n",
              "#h2o-table-6 .h2o-table td {\n",
              "  text-align: right;\n",
              "  /* border: 1px solid; */\n",
              "}\n",
              "#h2o-table-6 .h2o-table tr:nth-child(even) {\n",
              "  /* background: #F5F5F5 */\n",
              "}\n",
              "\n",
              "</style>      \n",
              "<div id=\"h2o-table-6\" class=\"h2o-container\">\n",
              "  <table class=\"h2o-table\">\n",
              "    <caption></caption>\n",
              "    <thead></thead>\n",
              "    <tbody><tr><td>H2O_cluster_uptime:</td>\n",
              "<td>4 mins 08 secs</td></tr>\n",
              "<tr><td>H2O_cluster_timezone:</td>\n",
              "<td>Etc/UTC</td></tr>\n",
              "<tr><td>H2O_data_parsing_timezone:</td>\n",
              "<td>UTC</td></tr>\n",
              "<tr><td>H2O_cluster_version:</td>\n",
              "<td>3.44.0.1</td></tr>\n",
              "<tr><td>H2O_cluster_version_age:</td>\n",
              "<td>3 hours and 58 minutes</td></tr>\n",
              "<tr><td>H2O_cluster_name:</td>\n",
              "<td>H2O_from_python_unknownUser_6uib9n</td></tr>\n",
              "<tr><td>H2O_cluster_total_nodes:</td>\n",
              "<td>1</td></tr>\n",
              "<tr><td>H2O_cluster_free_memory:</td>\n",
              "<td>3.157 Gb</td></tr>\n",
              "<tr><td>H2O_cluster_total_cores:</td>\n",
              "<td>2</td></tr>\n",
              "<tr><td>H2O_cluster_allowed_cores:</td>\n",
              "<td>2</td></tr>\n",
              "<tr><td>H2O_cluster_status:</td>\n",
              "<td>locked, healthy</td></tr>\n",
              "<tr><td>H2O_connection_url:</td>\n",
              "<td>http://localhost:54321</td></tr>\n",
              "<tr><td>H2O_connection_proxy:</td>\n",
              "<td>{\"http\": null, \"https\": null, \"colab_language_server\": \"/usr/colab/bin/language_service\"}</td></tr>\n",
              "<tr><td>H2O_internal_security:</td>\n",
              "<td>False</td></tr>\n",
              "<tr><td>Python_version:</td>\n",
              "<td>3.10.12 final</td></tr></tbody>\n",
              "  </table>\n",
              "</div>\n"
            ]
          },
          "metadata": {}
        },
        {
          "output_type": "stream",
          "name": "stdout",
          "text": [
            "Parse progress: |████████████████████████████████████████████████████████████████| (done) 100%\n",
            "AutoML progress: |\n",
            "14:25:08.839: _response param, We have detected that your response column has only 2 unique values (0/1). If you wish to train a binary model instead of a regression model, convert your target column to categorical before training.\n",
            "\n",
            "██\n",
            "14:25:23.251: _response param, We have detected that your response column has only 2 unique values (0/1). If you wish to train a binary model instead of a regression model, convert your target column to categorical before training.\n",
            "14:25:23.726: _response param, We have detected that your response column has only 2 unique values (0/1). If you wish to train a binary model instead of a regression model, convert your target column to categorical before training.\n",
            "\n",
            "\n",
            "14:25:25.386: _response param, We have detected that your response column has only 2 unique values (0/1). If you wish to train a binary model instead of a regression model, convert your target column to categorical before training.\n",
            "\n",
            "█\n",
            "14:25:28.236: _response param, We have detected that your response column has only 2 unique values (0/1). If you wish to train a binary model instead of a regression model, convert your target column to categorical before training.\n",
            "\n",
            "█\n",
            "14:25:29.647: _response param, We have detected that your response column has only 2 unique values (0/1). If you wish to train a binary model instead of a regression model, convert your target column to categorical before training.\n",
            "\n",
            "█\n",
            "14:25:31.926: _response param, We have detected that your response column has only 2 unique values (0/1). If you wish to train a binary model instead of a regression model, convert your target column to categorical before training.\n",
            "\n",
            "██\n",
            "14:25:35.183: _response param, We have detected that your response column has only 2 unique values (0/1). If you wish to train a binary model instead of a regression model, convert your target column to categorical before training.\n",
            "\n",
            "██\n",
            "14:25:38.433: _response param, We have detected that your response column has only 2 unique values (0/1). If you wish to train a binary model instead of a regression model, convert your target column to categorical before training.\n",
            "\n",
            "█\n",
            "14:25:40.430: _response param, We have detected that your response column has only 2 unique values (0/1). If you wish to train a binary model instead of a regression model, convert your target column to categorical before training.\n",
            "\n",
            "█\n",
            "14:25:42.670: _response param, We have detected that your response column has only 2 unique values (0/1). If you wish to train a binary model instead of a regression model, convert your target column to categorical before training.\n",
            "14:25:43.132: _response param, We have detected that your response column has only 2 unique values (0/1). If you wish to train a binary model instead of a regression model, convert your target column to categorical before training.\n",
            "\n",
            "████████████████████████████████████████████████████| (done) 100%\n",
            "model_id                                                     rmse        mse        mae     rmsle    mean_residual_deviance\n",
            "StackedEnsemble_AllModels_1_AutoML_3_20231016_142508     0.168492  0.0283895  0.0847401  0.118889                 0.0283895\n",
            "StackedEnsemble_BestOfFamily_1_AutoML_3_20231016_142508  0.169154  0.0286132  0.085128   0.119315                 0.0286132\n",
            "GBM_4_AutoML_3_20231016_142508                           0.169203  0.0286295  0.0814389  0.118928                 0.0286295\n",
            "DRF_1_AutoML_3_20231016_142508                           0.173484  0.0300967  0.0734118  0.121665                 0.0300967\n",
            "GBM_2_AutoML_3_20231016_142508                           0.17392   0.0302481  0.0824946  0.121621                 0.0302481\n",
            "XRT_1_AutoML_3_20231016_142508                           0.17505   0.0306426  0.0743814  0.121983                 0.0306426\n",
            "GBM_3_AutoML_3_20231016_142508                           0.180575  0.0326075  0.0859531  0.1251                   0.0326075\n",
            "XGBoost_1_AutoML_3_20231016_142508                       0.181128  0.0328074  0.105676   0.126991                 0.0328074\n",
            "XGBoost_3_AutoML_3_20231016_142508                       0.187568  0.0351816  0.0867205  0.129367                 0.0351816\n",
            "XGBoost_2_AutoML_3_20231016_142508                       0.194648  0.0378879  0.102279   0.134559                 0.0378879\n",
            "[12 rows x 6 columns]\n",
            "\n",
            "stackedensemble prediction progress: |███████████████████████████████████████████| (done) 100%\n"
          ]
        },
        {
          "output_type": "display_data",
          "data": {
            "text/plain": [
              "<Figure size 800x600 with 1 Axes>"
            ],
            "image/png": "[encoded data removed]"
          },
          "metadata": {}
        }
      ]
    },
    {
      "cell_type": "markdown",
      "source": [
        "In this example, we use the H2O AutoML framework to build a model for the iris dataset. We split the data into training and testing sets, run the AutoML process, and generate predictions. Additionally, we visualize the predicted values against the actual values to assess the model's performance."
      ],
      "metadata": {
        "id": "6Pb0Wrze27I5"
      }
    },
    {
      "cell_type": "code",
      "source": [
        "# Importing necessary libraries\n",
        "import torch\n",
        "import torch.nn as nn\n",
        "import numpy as np\n",
        "import pandas as pd\n",
        "from sklearn.model_selection import train_test_split\n",
        "from sklearn.metrics import accuracy_score\n",
        "from tensorflow.keras.models import Sequential\n",
        "from tensorflow.keras.layers import Dense\n",
        "\n",
        "# Generating random data\n",
        "np.random.seed(0)\n",
        "X = np.random.rand(100, 5)\n",
        "y = np.random.randint(0, 2, 100)\n",
        "\n",
        "# Splitting the data into training and testing sets\n",
        "X_train, X_test, y_train, y_test = train_test_split(X, y, test_size=0.2, random_state=0)\n",
        "\n",
        "# PyTorch Implementation\n",
        "class Net(nn.Module):\n",
        "    def __init__(self):\n",
        "        super(Net, self).__init__()\n",
        "        self.fc = nn.Linear(5, 1)\n",
        "\n",
        "    def forward(self, x):\n",
        "        x = torch.sigmoid(self.fc(x))\n",
        "        return x\n",
        "\n",
        "# Define the model, loss function, and optimizer\n",
        "model = Net()\n",
        "criterion = nn.BCELoss()\n",
        "optimizer = torch.optim.SGD(model.parameters(), lr=0.01)\n",
        "\n",
        "# Training the model\n",
        "X_train_torch = torch.from_numpy(X_train).float()\n",
        "y_train_torch = torch.from_numpy(y_train).view(-1, 1).float()\n",
        "for epoch in range(500):\n",
        "    optimizer.zero_grad()\n",
        "    output = model(X_train_torch)\n",
        "    loss = criterion(output, y_train_torch)\n",
        "    loss.backward()\n",
        "    optimizer.step()\n",
        "\n",
        "# Scikit-learn Implementation\n",
        "from sklearn.neural_network import MLPClassifier\n",
        "scikit_model = MLPClassifier(hidden_layer_sizes=(5, 2), max_iter=1000)\n",
        "scikit_model.fit(X_train, y_train)\n",
        "\n",
        "# TensorFlow Implementation\n",
        "tf_model = Sequential([\n",
        "    Dense(5, activation='relu', input_shape=(5,)),\n",
        "    Dense(2, activation='relu'),\n",
        "    Dense(1, activation='sigmoid')\n",
        "])\n",
        "tf_model.compile(optimizer='adam', loss='binary_crossentropy', metrics=['accuracy'])\n",
        "tf_model.fit(X_train, y_train, epochs=50, batch_size=1, verbose=0)\n",
        "\n",
        "# Evaluate all models\n",
        "X_test_torch = torch.from_numpy(X_test).float()\n",
        "with torch.no_grad():\n",
        "    predicted_torch = model(X_test_torch).numpy().flatten()\n",
        "predicted_sklearn = scikit_model.predict(X_test)\n",
        "predicted_tf = tf_model.predict(X_test).flatten().round()\n",
        "\n",
        "# Print accuracies\n",
        "print(\"PyTorch Accuracy:\", accuracy_score(y_test, (predicted_torch > 0.5).astype(int)))\n",
        "print(\"Scikit-learn Accuracy:\", accuracy_score(y_test, predicted_sklearn))\n",
        "print(\"TensorFlow Accuracy:\", accuracy_score(y_test, predicted_tf))\n"
      ],
      "metadata": {
        "colab": {
          "base_uri": "https://localhost:8080/"
        },
        "id": "MMqF0yoe292h",
        "outputId": "fee9865a-e724-44e1-bea8-5ede93fd75f0"
      },
      "execution_count": 6,
      "outputs": [
        {
          "output_type": "stream",
          "name": "stdout",
          "text": [
            "1/1 [==============================] - 0s 164ms/step\n",
            "PyTorch Accuracy: 0.45\n",
            "Scikit-learn Accuracy: 0.5\n",
            "TensorFlow Accuracy: 0.5\n"
          ]
        }
      ]
    },
    {
      "cell_type": "markdown",
      "source": [
        "# Conclusion\n",
        "Automated Machine Learning (AutoML) has revolutionized the field of machine learning, enabling users to build sophisticated models without extensive expertise. By automating the model development process, AutoML streamlines complex tasks, making machine learning more accessible and efficient. As seen in the example using the H2O AutoML framework, AutoML tools empower users to create powerful models and gain valuable insights from their data with minimal effort. With its increasing capabilities, AutoML is poised to drive innovation and accelerate the adoption of machine learning across diverse domains."
      ],
      "metadata": {
        "id": "FIf0GJaa3AFx"
      }
    }
  ]
}