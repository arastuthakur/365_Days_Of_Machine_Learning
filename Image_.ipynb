{
  "nbformat": 4,
  "nbformat_minor": 0,
  "metadata": {
    "colab": {
      "provenance": []
    },
    "kernelspec": {
      "name": "python3",
      "display_name": "Python 3"
    },
    "language_info": {
      "name": "python"
    }
  },
  "cells": [
    {
      "cell_type": "code",
      "source": [
        "from PIL import Image, ImageDraw\n",
        "\n",
        "# Create a new image with a white background\n",
        "image = Image.new('RGB', (400, 300), 'white')\n",
        "\n",
        "# Initialize ImageDraw\n",
        "draw = ImageDraw.Draw(image)\n",
        "\n",
        "# Draw a rectangle\n",
        "draw.rectangle([100, 75, 300, 225], fill='blue')\n",
        "\n",
        "# Save the image\n",
        "image.save('generated_image.png')\n",
        "\n",
        "# Display the image\n",
        "image.show()\n"
      ],
      "metadata": {
        "id": "Eqg2dC1gtf5H"
      },
      "execution_count": 16,
      "outputs": []
    },
    {
      "cell_type": "code",
      "source": [
        "import numpy as np\n",
        "import cv2\n",
        "from google.colab.patches import cv2_imshow\n",
        "\n",
        "# Create a black image\n",
        "image = np.zeros((400, 400, 3), np.uint8)\n",
        "\n",
        "# Draw a yellow circle for the face\n",
        "cv2.circle(image, (200, 200), 100, (0, 255, 255), -1)\n",
        "\n",
        "# Draw eyes\n",
        "cv2.circle(image, (160, 170), 15, (0, 0, 0), -1)\n",
        "cv2.circle(image, (240, 170), 15, (0, 0, 0), -1)\n",
        "\n",
        "# Draw a smile\n",
        "cv2.ellipse(image, (200, 200), (60, 35), 0, 0, 180, (0, 0, 0), 2)\n",
        "\n",
        "# Display the image\n",
        "cv2_imshow(image)\n"
      ],
      "metadata": {
        "colab": {
          "base_uri": "https://localhost:8080/",
          "height": 417
        },
        "id": "RjlnCkFntpz-",
        "outputId": "e3be375c-c7b4-4cd0-f87b-2809bcb2a90a"
      },
      "execution_count": 17,
      "outputs": [
        {
          "output_type": "display_data",
          "data": {
            "text/plain": [
              "<PIL.Image.Image image mode=RGB size=400x400>"
            ],
            "image/png": "[encoded data removed]"
          },
          "metadata": {}
        }
      ]
    },
    {
      "cell_type": "code",
      "source": [
        "!pip install CLIP"
      ],
      "metadata": {
        "colab": {
          "base_uri": "https://localhost:8080/"
        },
        "id": "JQALvxwZuYMP",
        "outputId": "200f7d7c-889d-4b72-b597-74867a1fe632"
      },
      "execution_count": 14,
      "outputs": [
        {
          "output_type": "stream",
          "name": "stdout",
          "text": [
            "Requirement already satisfied: CLIP in /usr/local/lib/python3.10/dist-packages (0.2.0)\n"
          ]
        }
      ]
    },
    {
      "cell_type": "code",
      "source": [
        "import numpy as np\n",
        "import matplotlib.pyplot as plt\n",
        "from tensorflow.keras.datasets import fashion_mnist\n",
        "from tensorflow.keras.models import Sequential\n",
        "from tensorflow.keras.layers import Dense, Reshape, UpSampling2D, Conv2D\n",
        "from tensorflow.keras.layers import LeakyReLU, Flatten, BatchNormalization\n",
        "from tensorflow.keras.optimizers import Adam\n",
        "\n",
        "# Load and preprocess the Fashion MNIST dataset\n",
        "(train_images, _), (_, _) = fashion_mnist.load_data()\n",
        "train_images = train_images.reshape(train_images.shape[0], 28, 28, 1).astype('float32')\n",
        "train_images = (train_images - 127.5) / 127.5\n",
        "\n",
        "# Define the generator model\n",
        "generator = Sequential()\n",
        "generator.add(Dense(128 * 7 * 7, input_dim=100))\n",
        "generator.add(LeakyReLU(0.2))\n",
        "generator.add(Reshape((7, 7, 128)))\n",
        "generator.add(UpSampling2D())\n",
        "generator.add(Conv2D(64, kernel_size=5, padding='same'))\n",
        "generator.add(LeakyReLU(0.2))\n",
        "generator.add(UpSampling2D())\n",
        "generator.add(Conv2D(1, kernel_size=5, padding='same', activation='tanh'))\n",
        "\n",
        "# Compile the generator model\n",
        "generator.compile(loss='binary_crossentropy', optimizer=Adam(lr=0.0002, beta_1=0.5))\n",
        "\n",
        "# Define a function for generating images\n",
        "def generate_image():\n",
        "    noise = np.random.normal(0, 1, (1, 100))\n",
        "    generated_image = generator.predict(noise)\n",
        "\n",
        "    # Display the generated image\n",
        "    plt.imshow(generated_image[0, :, :, 0], cmap='gray')\n",
        "    plt.axis('off')\n",
        "    plt.show()\n",
        "\n",
        "# Example usage of the function\n",
        "generate_image()\n"
      ],
      "metadata": {
        "colab": {
          "base_uri": "https://localhost:8080/",
          "height": 478
        },
        "id": "QudJjR19pEgo",
        "outputId": "f71e4eb2-396d-4840-804d-8d62834d2d25"
      },
      "execution_count": 18,
      "outputs": [
        {
          "output_type": "stream",
          "name": "stderr",
          "text": [
            "WARNING:absl:`lr` is deprecated in Keras optimizer, please use `learning_rate` or use the legacy optimizer, e.g.,tf.keras.optimizers.legacy.Adam.\n",
            "WARNING:tensorflow:6 out of the last 3478 calls to <function Model.make_predict_function.<locals>.predict_function at 0x7da9aaf6e680> triggered tf.function retracing. Tracing is expensive and the excessive number of tracings could be due to (1) creating @tf.function repeatedly in a loop, (2) passing tensors with different shapes, (3) passing Python objects instead of tensors. For (1), please define your @tf.function outside of the loop. For (2), @tf.function has reduce_retracing=True option that can avoid unnecessary retracing. For (3), please refer to https://www.tensorflow.org/guide/function#controlling_retracing and https://www.tensorflow.org/api_docs/python/tf/function for  more details.\n"
          ]
        },
        {
          "output_type": "stream",
          "name": "stdout",
          "text": [
            "1/1 [==============================] - 0s 89ms/step\n"
          ]
        },
        {
          "output_type": "display_data",
          "data": {
            "text/plain": [
              "<Figure size 640x480 with 1 Axes>"
            ],
            "image/png": "[encoded data removed]"
          },
          "metadata": {}
        }
      ]
    },
    {
      "cell_type": "code",
      "source": [
        "import requests\n",
        "\n",
        "# Prompt the user to describe the image\n",
        "user_input = input('Describe the image you want to generate: ')\n",
        "\n",
        "# Use the DeepAI image generation API to generate an image based on user input\n",
        "response = requests.post(\n",
        "    \"https://api.deepai.org/api/text2img\",\n",
        "    data={\n",
        "        'text': user_input,\n",
        "    },\n",
        "    headers={'api-key': 'quickstart-QUdJIGlzIGNvbWluZy4uLi4K'}\n",
        ")\n",
        "\n",
        "if response.status_code == 200:\n",
        "    result = response.json()\n",
        "    if 'output_url' in result:\n",
        "        print(\"Generated image:\")\n",
        "        print(result['output_url'])\n",
        "    else:\n",
        "        print('Failed to generate the image. Please try again with a different description.')\n",
        "else:\n",
        "    print('Failed to generate the image. Please try again with a different description.')\n"
      ],
      "metadata": {
        "colab": {
          "base_uri": "https://localhost:8080/"
        },
        "id": "IWvXovMAoTD2",
        "outputId": "35a68bce-e350-4366-a846-54841716da6a"
      },
      "execution_count": 19,
      "outputs": [
        {
          "output_type": "stream",
          "name": "stdout",
          "text": [
            "Describe the image you want to generate: Human\n",
            "Generated image:\n",
            "https://api.deepai.org/job-view-file/22a2dbac-d02a-45dc-839d-b1ae0e6216a1/outputs/output.jpg\n"
          ]
        }
      ]
    }
  ]
}