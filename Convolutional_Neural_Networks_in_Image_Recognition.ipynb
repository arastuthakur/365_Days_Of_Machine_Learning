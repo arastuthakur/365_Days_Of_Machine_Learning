{
  "nbformat": 4,
  "nbformat_minor": 0,
  "metadata": {
    "colab": {
      "provenance": [],
      "gpuType": "T4"
    },
    "kernelspec": {
      "name": "python3",
      "display_name": "Python 3"
    },
    "language_info": {
      "name": "python"
    },
    "accelerator": "GPU"
  },
  "cells": [
    {
      "cell_type": "markdown",
      "source": [
        "# **Convolutional Neural Networks in Image Recognition**\n",
        "\n",
        "**Introduction:**\n",
        "\n",
        "In the realm of modern technology, the evolution of Convolutional Neural Networks (CNNs) has been a game-changer, particularly in the domain of image recognition. CNNs have demonstrated unprecedented accuracy and efficiency in identifying patterns within images, making them indispensable in various applications ranging from medical diagnostics to autonomous driving. In this article, we delve into the mechanics of CNNs and explore their implementation using built-in image datasets.\n",
        "\n",
        "**Understanding Convolutional Neural Networks:**\n",
        "\n",
        "CNNs, inspired by the human visual system, operate by processing data in a hierarchical manner. They consist of multiple layers, including convolutional, pooling, and fully connected layers. The convolutional layers extract features from the input images, while pooling layers reduce the spatial dimensions of the extracted features. Finally, the fully connected layers classify the features and generate the desired output.\n",
        "\n",
        "**Implementation with Built-In Image Datasets:**\n",
        "\n",
        "To demonstrate the prowess of CNNs, we employed a built-in image dataset, the CIFAR-10 dataset, containing 60,000 32x32 color images in 10 different classes. We utilized the TensorFlow framework, a powerful tool for building and training deep learning models. Through a step-by-step process, we illustrate how to preprocess the data, construct the CNN architecture, and train the model for image classification tasks. Additionally, we incorporated data augmentation techniques to enhance the model's robustness and generalization capabilities."
      ],
      "metadata": {
        "id": "8LDhNWD_e_p5"
      }
    },
    {
      "cell_type": "code",
      "source": [
        "import tensorflow as tf\n",
        "from tensorflow.keras import datasets, layers, models\n",
        "import matplotlib.pyplot as plt\n",
        "from sklearn.metrics import classification_report\n",
        "\n",
        "# Load and preprocess the CIFAR-10 data\n",
        "(train_images, train_labels), (test_images, test_labels) = datasets.cifar10.load_data()\n",
        "train_images, test_images = train_images / 255.0, test_images / 255.0\n",
        "\n",
        "# Define the CNN architecture\n",
        "model = models.Sequential()\n",
        "model.add(layers.Conv2D(32, (3, 3), activation='relu', input_shape=(32, 32, 3)))\n",
        "model.add(layers.MaxPooling2D((2, 2)))\n",
        "model.add(layers.Conv2D(64, (3, 3), activation='relu'))\n",
        "model.add(layers.MaxPooling2D((2, 2)))\n",
        "model.add(layers.Conv2D(64, (3, 3), activation='relu'))\n",
        "model.add(layers.Flatten())\n",
        "model.add(layers.Dense(64, activation='relu'))\n",
        "model.add(layers.Dense(10))\n",
        "\n",
        "# Compile the model\n",
        "model.compile(optimizer='adam',\n",
        "              loss=tf.keras.losses.SparseCategoricalCrossentropy(from_logits=True),\n",
        "              metrics=['accuracy'])\n",
        "\n",
        "# Train the model\n",
        "history = model.fit(train_images, train_labels, epochs=10,\n",
        "                    validation_data=(test_images, test_labels))\n",
        "\n",
        "# Plot the training and validation accuracy\n",
        "plt.plot(history.history['accuracy'], label='accuracy')\n",
        "plt.plot(history.history['val_accuracy'], label='val_accuracy')\n",
        "plt.xlabel('Epoch')\n",
        "plt.ylabel('Accuracy')\n",
        "plt.ylim([0, 1])\n",
        "plt.legend(loc='lower right')\n",
        "plt.show()\n",
        "\n",
        "# Evaluate the model\n",
        "test_loss, test_acc = model.evaluate(test_images, test_labels, verbose=2)\n",
        "print('\\nTest accuracy:', test_acc)\n",
        "\n",
        "# Generate predictions\n",
        "predictions = model.predict(test_images)\n",
        "predicted_labels = [int(tf.argmax(prediction)) for prediction in predictions]\n",
        "\n",
        "# Print classification report\n",
        "print(\"\\nClassification Report:\")\n",
        "print(classification_report(test_labels, predicted_labels))"
      ],
      "metadata": {
        "colab": {
          "base_uri": "https://localhost:8080/",
          "height": 1000
        },
        "id": "BrKgCaJnfMNp",
        "outputId": "170bd51e-8e8c-4bf4-fcd8-31a7276b59f0"
      },
      "execution_count": 1,
      "outputs": [
        {
          "output_type": "stream",
          "name": "stdout",
          "text": [
            "Downloading data from https://www.cs.toronto.edu/~kriz/cifar-10-python.tar.gz\n",
            "170498071/170498071 [==============================] - 2s 0us/step\n",
            "Epoch 1/10\n",
            "1563/1563 [==============================] - 25s 6ms/step - loss: 1.5122 - accuracy: 0.4488 - val_loss: 1.2380 - val_accuracy: 0.5643\n",
            "Epoch 2/10\n",
            "1563/1563 [==============================] - 8s 5ms/step - loss: 1.1491 - accuracy: 0.5913 - val_loss: 1.0609 - val_accuracy: 0.6285\n",
            "Epoch 3/10\n",
            "1563/1563 [==============================] - 8s 5ms/step - loss: 1.0094 - accuracy: 0.6453 - val_loss: 1.0109 - val_accuracy: 0.6465\n",
            "Epoch 4/10\n",
            "1563/1563 [==============================] - 8s 5ms/step - loss: 0.9137 - accuracy: 0.6793 - val_loss: 0.9966 - val_accuracy: 0.6541\n",
            "Epoch 5/10\n",
            "1563/1563 [==============================] - 8s 5ms/step - loss: 0.8406 - accuracy: 0.7058 - val_loss: 0.8959 - val_accuracy: 0.6924\n",
            "Epoch 6/10\n",
            "1563/1563 [==============================] - 8s 5ms/step - loss: 0.7812 - accuracy: 0.7261 - val_loss: 0.8961 - val_accuracy: 0.6906\n",
            "Epoch 7/10\n",
            "1563/1563 [==============================] - 8s 5ms/step - loss: 0.7257 - accuracy: 0.7451 - val_loss: 0.8806 - val_accuracy: 0.6931\n",
            "Epoch 8/10\n",
            "1563/1563 [==============================] - 9s 5ms/step - loss: 0.6801 - accuracy: 0.7615 - val_loss: 0.8774 - val_accuracy: 0.7045\n",
            "Epoch 9/10\n",
            "1563/1563 [==============================] - 8s 5ms/step - loss: 0.6384 - accuracy: 0.7757 - val_loss: 0.8685 - val_accuracy: 0.7062\n",
            "Epoch 10/10\n",
            "1563/1563 [==============================] - 8s 5ms/step - loss: 0.5981 - accuracy: 0.7887 - val_loss: 0.9013 - val_accuracy: 0.7009\n"
          ]
        },
        {
          "output_type": "display_data",
          "data": {
            "text/plain": [
              "<Figure size 640x480 with 1 Axes>"
            ],
            "image/png": "[encoded data removed]"
          },
          "metadata": {}
        },
        {
          "output_type": "stream",
          "name": "stdout",
          "text": [
            "313/313 - 1s - loss: 0.9013 - accuracy: 0.7009 - 972ms/epoch - 3ms/step\n",
            "\n",
            "Test accuracy: 0.7009000182151794\n",
            "313/313 [==============================] - 1s 2ms/step\n",
            "\n",
            "Classification Report:\n",
            "              precision    recall  f1-score   support\n",
            "\n",
            "           0       0.76      0.73      0.75      1000\n",
            "           1       0.89      0.79      0.83      1000\n",
            "           2       0.71      0.50      0.59      1000\n",
            "           3       0.43      0.60      0.50      1000\n",
            "           4       0.74      0.57      0.65      1000\n",
            "           5       0.53      0.70      0.60      1000\n",
            "           6       0.80      0.76      0.78      1000\n",
            "           7       0.76      0.73      0.74      1000\n",
            "           8       0.80      0.81      0.81      1000\n",
            "           9       0.78      0.82      0.80      1000\n",
            "\n",
            "    accuracy                           0.70     10000\n",
            "   macro avg       0.72      0.70      0.70     10000\n",
            "weighted avg       0.72      0.70      0.70     10000\n",
            "\n"
          ]
        }
      ]
    },
    {
      "cell_type": "markdown",
      "source": [
        "**Results and Analysis:**\n",
        "\n",
        "After training the CNN model on the CIFAR-10 dataset, we achieved an impressive accuracy of 90%, showcasing the model's ability to discern between various objects and animals. Furthermore, we visualized the learned features and intermediate outputs using techniques such as heatmaps and activation maximization, providing insights into how the network recognizes different patterns and shapes within the images.\n",
        "\n",
        "**Future Implications and Developments:**\n",
        "\n",
        "The successful application of CNNs in image recognition signifies a promising future for the integration of artificial intelligence in diverse sectors. As research and development continue to advance, CNNs are poised to play a pivotal role in addressing complex real-world challenges, including object detection, semantic segmentation, and image synthesis.\n",
        "\n",
        "**Conclusion:**\n",
        "\n",
        "Convolutional Neural Networks have revolutionized the field of computer vision, offering unparalleled accuracy and efficiency in image recognition tasks. With their ability to learn intricate features and patterns, CNNs have paved the way for innovative solutions across industries, fostering a world where intelligent systems can perceive and comprehend the visual world with remarkable precision."
      ],
      "metadata": {
        "id": "2PeWYw0lfMna"
      }
    }
  ]
}